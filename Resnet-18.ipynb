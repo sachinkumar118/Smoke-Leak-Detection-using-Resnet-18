{
 "cells": [
  {
   "cell_type": "code",
   "execution_count": 1,
   "id": "f46ba4a0",
   "metadata": {},
   "outputs": [],
   "source": [
    "#importing the dependencies"
   ]
  },
  {
   "cell_type": "code",
   "execution_count": 2,
   "id": "53e81b7e",
   "metadata": {},
   "outputs": [],
   "source": [
    "import tensorflow as tf\n",
    "import os\n",
    "import cv2\n",
    "import numpy as np\n",
    "from tensorflow.keras import layers\n",
    "from tensorflow.keras.utils import to_categorical\n",
    "os.environ['KMP_DUPLICATE_LIB_OK']='TRUE'"
   ]
  },
  {
   "cell_type": "code",
   "execution_count": 3,
   "id": "edd626b0",
   "metadata": {},
   "outputs": [],
   "source": [
    "# Define the Residual Block\n",
    "def residual_block(x, filters, downsample=False):\n",
    "    identity = x\n",
    "    stride = 1\n",
    "\n",
    "    if downsample:\n",
    "        stride = 2\n",
    "        identity = layers.Conv2D(filters, 1, strides=2, padding='same')(identity)\n",
    "        identity = layers.BatchNormalization()(identity)\n",
    "\n",
    "    x = layers.Conv2D(filters, 3, strides=stride, padding='same')(x)\n",
    "    x = layers.BatchNormalization()(x)\n",
    "    x = layers.ReLU()(x)\n",
    "\n",
    "    x = layers.Conv2D(filters, 3, padding='same')(x)\n",
    "    x = layers.BatchNormalization()(x)\n",
    "\n",
    "    x = layers.Add()([x, identity])\n",
    "    x = layers.ReLU()(x)\n",
    "    return x\n",
    "\n",
    "# Define the ResNet-18 model\n",
    "def resnet18(input_shape, num_classes):\n",
    "    inputs = layers.Input(shape=input_shape)\n",
    "\n",
    "    x = layers.Conv2D(64, 7, strides=2, padding='same')(inputs)\n",
    "    x = layers.BatchNormalization()(x)\n",
    "    x = layers.ReLU()(x)\n",
    "    x = layers.MaxPooling2D(pool_size=3, strides=2, padding='same')(x)\n",
    "\n",
    "    x = residual_block(x, 64)\n",
    "    x = residual_block(x, 64)\n",
    "    x = residual_block(x, 128, downsample=True)\n",
    "    x = residual_block(x, 128)\n",
    "    x = residual_block(x, 256, downsample=True)\n",
    "    x = residual_block(x, 256)\n",
    "    x = residual_block(x, 512, downsample=True)\n",
    "    x = residual_block(x, 512)\n",
    "\n",
    "    x = layers.GlobalAveragePooling2D()(x)\n",
    "    x = layers.Dense(num_classes, activation='softmax')(x)\n",
    "\n",
    "    model = tf.keras.Model(inputs=inputs, outputs=x)\n",
    "    return model"
   ]
  },
  {
   "cell_type": "code",
   "execution_count": 4,
   "id": "37396d66",
   "metadata": {},
   "outputs": [],
   "source": [
    "# Specify the path to the dataset folder\n",
    "dataset_path = 'data'"
   ]
  },
  {
   "cell_type": "code",
   "execution_count": 5,
   "id": "2e486c50",
   "metadata": {},
   "outputs": [],
   "source": [
    "# Define the classes (subfolder names)\n",
    "classes = ['Gas Leak', 'No Leak']"
   ]
  },
  {
   "cell_type": "code",
   "execution_count": 6,
   "id": "99d1eac9",
   "metadata": {},
   "outputs": [],
   "source": [
    "# Define the input shape and number of classes\n",
    "input_shape = (224, 224, 3)\n",
    "num_classes = len(classes)"
   ]
  },
  {
   "cell_type": "code",
   "execution_count": 7,
   "id": "f0ebf641",
   "metadata": {},
   "outputs": [],
   "source": [
    "# Initialize empty lists to store the data and labels\n",
    "data = []\n",
    "labels = []"
   ]
  },
  {
   "cell_type": "code",
   "execution_count": 8,
   "id": "1707fccc",
   "metadata": {},
   "outputs": [],
   "source": [
    "# Iterate over the classes\n",
    "for class_label, class_name in enumerate(classes):\n",
    "    # Get the path to the class folder\n",
    "    class_path = os.path.join(dataset_path, class_name)\n",
    "    \n",
    "    # Iterate over the files in the class folder\n",
    "    for filename in os.listdir(class_path):\n",
    "        # Get the path to the file\n",
    "        file_path = os.path.join(class_path, filename)\n",
    "        \n",
    "        # Read the image\n",
    "        image = cv2.imread(file_path)\n",
    "        \n",
    "        # Resize the image to the desired input shape\n",
    "        image = cv2.resize(image, input_shape[:2])\n",
    "        \n",
    "        # Normalize the pixel values between 0 and 1\n",
    "        image = image.astype('float32') / 255.0\n",
    "        \n",
    "        # Append the image to the data list\n",
    "        data.append(image)\n",
    "        \n",
    "        # Append the label to the labels list\n",
    "        labels.append(class_label)"
   ]
  },
  {
   "cell_type": "code",
   "execution_count": 9,
   "id": "042f22a1",
   "metadata": {},
   "outputs": [],
   "source": [
    "# Convert the data and labels to numpy arrays\n",
    "data = np.array(data)\n",
    "labels = np.array(labels)"
   ]
  },
  {
   "cell_type": "code",
   "execution_count": 10,
   "id": "5632b922",
   "metadata": {},
   "outputs": [],
   "source": [
    "# Convert the labels to one-hot encoded vectors\n",
    "labels = to_categorical(labels)\n"
   ]
  },
  {
   "cell_type": "code",
   "execution_count": 11,
   "id": "543bbdf8",
   "metadata": {},
   "outputs": [],
   "source": [
    "# Split the data into train, validation, and test sets (e.g., 70%, 15%, 15%)\n",
    "train_split = 0.7\n",
    "val_split = 0.15"
   ]
  },
  {
   "cell_type": "code",
   "execution_count": 12,
   "id": "76ae0e03",
   "metadata": {},
   "outputs": [],
   "source": [
    "num_samples = len(data)\n",
    "num_train_samples = int(train_split * num_samples)\n",
    "num_val_samples = int(val_split * num_samples)"
   ]
  },
  {
   "cell_type": "code",
   "execution_count": 13,
   "id": "18272685",
   "metadata": {},
   "outputs": [],
   "source": [
    "# Shuffle the data and labels in unison\n",
    "np.random.seed(42)\n",
    "shuffle_indices = np.random.permutation(num_samples)\n",
    "data = data[shuffle_indices]\n",
    "labels = labels[shuffle_indices]"
   ]
  },
  {
   "cell_type": "code",
   "execution_count": 14,
   "id": "ec0ae658",
   "metadata": {},
   "outputs": [],
   "source": [
    "# Split the data into train, validation, and test sets\n",
    "x_train = data[:num_train_samples]\n",
    "y_train = labels[:num_train_samples]\n",
    "x_val = data[num_train_samples:num_train_samples+num_val_samples]\n",
    "y_val = labels[num_train_samples:num_train_samples+num_val_samples]\n",
    "x_test = data[num_train_samples+num_val_samples:]\n",
    "y_test = labels[num_train_samples+num_val_samples:]\n",
    "\n"
   ]
  },
  {
   "cell_type": "code",
   "execution_count": 15,
   "id": "406d5e46",
   "metadata": {},
   "outputs": [],
   "source": [
    "# Create an instance of the ResNet-18 model\n",
    "model = resnet18(input_shape, num_classes)\n",
    "\n"
   ]
  },
  {
   "cell_type": "code",
   "execution_count": 16,
   "id": "32b88e7f",
   "metadata": {},
   "outputs": [],
   "source": [
    "# Compile the model\n",
    "model.compile(optimizer='adam',\n",
    "              loss=tf.keras.losses.CategoricalCrossentropy(),\n",
    "              metrics=['accuracy'])\n",
    "\n"
   ]
  },
  {
   "cell_type": "code",
   "execution_count": 17,
   "id": "a424e716",
   "metadata": {
    "scrolled": true
   },
   "outputs": [
    {
     "name": "stdout",
     "output_type": "stream",
     "text": [
      "Epoch 1/50\n",
      "15/15 [==============================] - 22s 1s/step - loss: 1.8743 - accuracy: 0.6381 - val_loss: 1433.7926 - val_accuracy: 0.6300\n",
      "Epoch 2/50\n",
      "15/15 [==============================] - 20s 1s/step - loss: 0.5977 - accuracy: 0.6895 - val_loss: 1451.1875 - val_accuracy: 0.6200\n",
      "Epoch 3/50\n",
      "15/15 [==============================] - 20s 1s/step - loss: 0.5726 - accuracy: 0.7259 - val_loss: 372.5378 - val_accuracy: 0.6300\n",
      "Epoch 4/50\n",
      "15/15 [==============================] - 20s 1s/step - loss: 0.5699 - accuracy: 0.7002 - val_loss: 100.3555 - val_accuracy: 0.6400\n",
      "Epoch 5/50\n",
      "15/15 [==============================] - 20s 1s/step - loss: 0.5434 - accuracy: 0.7302 - val_loss: 32.0913 - val_accuracy: 0.6300\n",
      "Epoch 6/50\n",
      "15/15 [==============================] - 19s 1s/step - loss: 0.5457 - accuracy: 0.7495 - val_loss: 10.5309 - val_accuracy: 0.6500\n",
      "Epoch 7/50\n",
      "15/15 [==============================] - 19s 1s/step - loss: 0.5142 - accuracy: 0.7666 - val_loss: 2.2220 - val_accuracy: 0.6500\n",
      "Epoch 8/50\n",
      "15/15 [==============================] - 20s 1s/step - loss: 0.5277 - accuracy: 0.7473 - val_loss: 0.8105 - val_accuracy: 0.6500\n",
      "Epoch 9/50\n",
      "15/15 [==============================] - 20s 1s/step - loss: 0.5247 - accuracy: 0.7281 - val_loss: 0.7597 - val_accuracy: 0.7100\n",
      "Epoch 10/50\n",
      "15/15 [==============================] - 20s 1s/step - loss: 0.4959 - accuracy: 0.7816 - val_loss: 0.6138 - val_accuracy: 0.7500\n",
      "Epoch 11/50\n",
      "15/15 [==============================] - 20s 1s/step - loss: 0.4982 - accuracy: 0.7580 - val_loss: 0.7554 - val_accuracy: 0.6200\n",
      "Epoch 12/50\n",
      "15/15 [==============================] - 20s 1s/step - loss: 0.5024 - accuracy: 0.7580 - val_loss: 0.6571 - val_accuracy: 0.6800\n",
      "Epoch 13/50\n",
      "15/15 [==============================] - 20s 1s/step - loss: 0.4836 - accuracy: 0.7859 - val_loss: 0.8588 - val_accuracy: 0.4700\n",
      "Epoch 14/50\n",
      "15/15 [==============================] - 20s 1s/step - loss: 0.5037 - accuracy: 0.7709 - val_loss: 1.6920 - val_accuracy: 0.4600\n",
      "Epoch 15/50\n",
      "15/15 [==============================] - 20s 1s/step - loss: 0.4746 - accuracy: 0.7816 - val_loss: 2.7736 - val_accuracy: 0.4300\n",
      "Epoch 16/50\n",
      "15/15 [==============================] - 20s 1s/step - loss: 0.4584 - accuracy: 0.7944 - val_loss: 0.7078 - val_accuracy: 0.6500\n",
      "Epoch 17/50\n",
      "15/15 [==============================] - 20s 1s/step - loss: 0.4513 - accuracy: 0.8137 - val_loss: 0.8438 - val_accuracy: 0.5900\n",
      "Epoch 18/50\n",
      "15/15 [==============================] - 20s 1s/step - loss: 0.4594 - accuracy: 0.7880 - val_loss: 1.1302 - val_accuracy: 0.4000\n",
      "Epoch 19/50\n",
      "15/15 [==============================] - 20s 1s/step - loss: 0.4020 - accuracy: 0.8137 - val_loss: 7.2234 - val_accuracy: 0.3600\n",
      "Epoch 20/50\n",
      "15/15 [==============================] - 20s 1s/step - loss: 0.4733 - accuracy: 0.7944 - val_loss: 0.5972 - val_accuracy: 0.6900\n",
      "Epoch 21/50\n",
      "15/15 [==============================] - 19s 1s/step - loss: 0.4723 - accuracy: 0.7880 - val_loss: 1.9342 - val_accuracy: 0.6100\n",
      "Epoch 22/50\n",
      "15/15 [==============================] - 20s 1s/step - loss: 0.4583 - accuracy: 0.7816 - val_loss: 0.9120 - val_accuracy: 0.7300\n",
      "Epoch 23/50\n",
      "15/15 [==============================] - 20s 1s/step - loss: 0.4177 - accuracy: 0.8180 - val_loss: 0.7724 - val_accuracy: 0.6800\n",
      "Epoch 24/50\n",
      "15/15 [==============================] - 19s 1s/step - loss: 0.4105 - accuracy: 0.8394 - val_loss: 0.9141 - val_accuracy: 0.6200\n",
      "Epoch 25/50\n",
      "15/15 [==============================] - 20s 1s/step - loss: 0.3736 - accuracy: 0.8308 - val_loss: 0.6893 - val_accuracy: 0.6400\n",
      "Epoch 26/50\n",
      "15/15 [==============================] - 20s 1s/step - loss: 0.3939 - accuracy: 0.8073 - val_loss: 1.0517 - val_accuracy: 0.6600\n",
      "Epoch 27/50\n",
      "15/15 [==============================] - 19s 1s/step - loss: 0.3490 - accuracy: 0.8501 - val_loss: 0.8248 - val_accuracy: 0.7200\n",
      "Epoch 28/50\n",
      "15/15 [==============================] - 20s 1s/step - loss: 0.3573 - accuracy: 0.8608 - val_loss: 0.7686 - val_accuracy: 0.7000\n",
      "Epoch 29/50\n",
      "15/15 [==============================] - 19s 1s/step - loss: 0.3249 - accuracy: 0.8415 - val_loss: 0.8839 - val_accuracy: 0.6300\n",
      "Epoch 30/50\n",
      "15/15 [==============================] - 20s 1s/step - loss: 0.3388 - accuracy: 0.8266 - val_loss: 0.8258 - val_accuracy: 0.6500\n",
      "Epoch 31/50\n",
      "15/15 [==============================] - 20s 1s/step - loss: 0.3504 - accuracy: 0.8522 - val_loss: 2.7151 - val_accuracy: 0.3900\n",
      "Epoch 32/50\n",
      "15/15 [==============================] - 20s 1s/step - loss: 0.4917 - accuracy: 0.7773 - val_loss: 72.0477 - val_accuracy: 0.6300\n",
      "Epoch 33/50\n",
      "15/15 [==============================] - 19s 1s/step - loss: 0.4170 - accuracy: 0.7816 - val_loss: 19.0435 - val_accuracy: 0.6300\n",
      "Epoch 34/50\n",
      "15/15 [==============================] - 19s 1s/step - loss: 0.3857 - accuracy: 0.8180 - val_loss: 4.6592 - val_accuracy: 0.6300\n",
      "Epoch 35/50\n",
      "15/15 [==============================] - 19s 1s/step - loss: 0.3647 - accuracy: 0.8266 - val_loss: 1.7717 - val_accuracy: 0.5700\n",
      "Epoch 36/50\n",
      "15/15 [==============================] - 20s 1s/step - loss: 0.3374 - accuracy: 0.8223 - val_loss: 1.4204 - val_accuracy: 0.3600\n",
      "Epoch 37/50\n",
      "15/15 [==============================] - 19s 1s/step - loss: 0.3201 - accuracy: 0.8608 - val_loss: 1.6632 - val_accuracy: 0.3300\n",
      "Epoch 38/50\n",
      "15/15 [==============================] - 19s 1s/step - loss: 0.3672 - accuracy: 0.8394 - val_loss: 1.9559 - val_accuracy: 0.3400\n",
      "Epoch 39/50\n",
      "15/15 [==============================] - 19s 1s/step - loss: 0.3083 - accuracy: 0.8565 - val_loss: 2.2864 - val_accuracy: 0.3300\n",
      "Epoch 40/50\n",
      "15/15 [==============================] - 19s 1s/step - loss: 0.2842 - accuracy: 0.8737 - val_loss: 2.4410 - val_accuracy: 0.3500\n",
      "Epoch 41/50\n",
      "15/15 [==============================] - 20s 1s/step - loss: 0.3232 - accuracy: 0.8501 - val_loss: 1.2787 - val_accuracy: 0.6300\n",
      "Epoch 42/50\n",
      "15/15 [==============================] - 19s 1s/step - loss: 0.3001 - accuracy: 0.8480 - val_loss: 0.9421 - val_accuracy: 0.6100\n",
      "Epoch 43/50\n",
      "15/15 [==============================] - 20s 1s/step - loss: 0.3028 - accuracy: 0.8480 - val_loss: 1.1299 - val_accuracy: 0.6700\n",
      "Epoch 44/50\n",
      "15/15 [==============================] - 20s 1s/step - loss: 0.2615 - accuracy: 0.8715 - val_loss: 1.1738 - val_accuracy: 0.6800\n",
      "Epoch 45/50\n",
      "15/15 [==============================] - 20s 1s/step - loss: 0.2829 - accuracy: 0.8565 - val_loss: 1.1617 - val_accuracy: 0.5600\n",
      "Epoch 46/50\n",
      "15/15 [==============================] - 20s 1s/step - loss: 0.2411 - accuracy: 0.8865 - val_loss: 2.1625 - val_accuracy: 0.5000\n",
      "Epoch 47/50\n",
      "15/15 [==============================] - 19s 1s/step - loss: 0.2823 - accuracy: 0.8630 - val_loss: 1.9183 - val_accuracy: 0.7000\n",
      "Epoch 48/50\n",
      "15/15 [==============================] - 21s 1s/step - loss: 0.3463 - accuracy: 0.8480 - val_loss: 1.6859 - val_accuracy: 0.6500\n",
      "Epoch 49/50\n",
      "15/15 [==============================] - 19s 1s/step - loss: 0.2730 - accuracy: 0.8694 - val_loss: 0.8404 - val_accuracy: 0.6600\n",
      "Epoch 50/50\n",
      "15/15 [==============================] - 19s 1s/step - loss: 0.2656 - accuracy: 0.8608 - val_loss: 1.8201 - val_accuracy: 0.3000\n"
     ]
    },
    {
     "data": {
      "text/plain": [
       "<keras.callbacks.History at 0x10c5aec3d00>"
      ]
     },
     "execution_count": 17,
     "metadata": {},
     "output_type": "execute_result"
    }
   ],
   "source": [
    "# Train the model\n",
    "model.fit(x_train, y_train, epochs=50, batch_size=32, validation_data=(x_val, y_val))\n",
    "\n"
   ]
  },
  {
   "cell_type": "code",
   "execution_count": 18,
   "id": "8ee85881",
   "metadata": {},
   "outputs": [
    {
     "name": "stdout",
     "output_type": "stream",
     "text": [
      "4/4 - 1s - loss: 1.4334 - accuracy: 0.3267 - 1s/epoch - 275ms/step\n",
      "Test Loss: 1.4334405660629272\n",
      "Test Accuracy: 0.32673266530036926\n"
     ]
    }
   ],
   "source": [
    "# Evaluate the model on the test set\n",
    "test_loss, test_accuracy = model.evaluate(x_test, y_test, verbose=2)\n",
    "print(\"Test Loss:\", test_loss)\n",
    "print(\"Test Accuracy:\", test_accuracy)"
   ]
  },
  {
   "cell_type": "code",
   "execution_count": 19,
   "id": "1f74eb5b",
   "metadata": {},
   "outputs": [],
   "source": [
    "# Load and preprocess the image\n",
    "image_path = 'imagesfortest/23.png'\n",
    "image = cv2.imread(image_path)\n",
    "image = cv2.resize(image, (224, 224))\n",
    "image = image.astype('float32') / 255.0\n",
    "image = np.expand_dims(image, axis=0)"
   ]
  },
  {
   "cell_type": "code",
   "execution_count": 20,
   "id": "670da1a2",
   "metadata": {},
   "outputs": [
    {
     "name": "stdout",
     "output_type": "stream",
     "text": [
      "1/1 [==============================] - 0s 339ms/step\n"
     ]
    }
   ],
   "source": [
    "# Predict the category\n",
    "predictions = model.predict(image)\n",
    "predicted_class = np.argmax(predictions[0])\n",
    "confidence = predictions[0][predicted_class]"
   ]
  },
  {
   "cell_type": "code",
   "execution_count": 21,
   "id": "70a112ad",
   "metadata": {},
   "outputs": [
    {
     "name": "stdout",
     "output_type": "stream",
     "text": [
      "Predicted Label: No Leak\n",
      "Confidence: 0.96766794\n"
     ]
    }
   ],
   "source": [
    "# Get the class label and confidence score\n",
    "predicted_label = classes[predicted_class]\n",
    "print(\"Predicted Label:\", predicted_label)\n",
    "print(\"Confidence:\", confidence)"
   ]
  },
  {
   "cell_type": "code",
   "execution_count": null,
   "id": "a6d5a043",
   "metadata": {},
   "outputs": [],
   "source": []
  },
  {
   "cell_type": "code",
   "execution_count": null,
   "id": "203f2255",
   "metadata": {},
   "outputs": [],
   "source": []
  },
  {
   "cell_type": "code",
   "execution_count": null,
   "id": "94bf0cb5",
   "metadata": {},
   "outputs": [],
   "source": []
  },
  {
   "cell_type": "code",
   "execution_count": null,
   "id": "cec8d049",
   "metadata": {},
   "outputs": [],
   "source": []
  },
  {
   "cell_type": "code",
   "execution_count": null,
   "id": "cded3d87",
   "metadata": {},
   "outputs": [],
   "source": []
  },
  {
   "cell_type": "code",
   "execution_count": null,
   "id": "d051e0f7",
   "metadata": {},
   "outputs": [],
   "source": []
  },
  {
   "cell_type": "code",
   "execution_count": null,
   "id": "e7cbb485",
   "metadata": {},
   "outputs": [],
   "source": []
  },
  {
   "cell_type": "code",
   "execution_count": null,
   "id": "45cdc97b",
   "metadata": {},
   "outputs": [],
   "source": []
  },
  {
   "cell_type": "code",
   "execution_count": null,
   "id": "2fbeee89",
   "metadata": {},
   "outputs": [],
   "source": []
  },
  {
   "cell_type": "code",
   "execution_count": null,
   "id": "ab7d7444",
   "metadata": {},
   "outputs": [],
   "source": []
  },
  {
   "cell_type": "code",
   "execution_count": null,
   "id": "d5ab73a8",
   "metadata": {},
   "outputs": [],
   "source": []
  },
  {
   "cell_type": "code",
   "execution_count": null,
   "id": "55630446",
   "metadata": {},
   "outputs": [],
   "source": []
  },
  {
   "cell_type": "code",
   "execution_count": null,
   "id": "7d70551b",
   "metadata": {},
   "outputs": [],
   "source": []
  },
  {
   "cell_type": "code",
   "execution_count": null,
   "id": "43bfd372",
   "metadata": {},
   "outputs": [],
   "source": []
  }
 ],
 "metadata": {
  "kernelspec": {
   "display_name": "Python 3 (ipykernel)",
   "language": "python",
   "name": "python3"
  },
  "language_info": {
   "codemirror_mode": {
    "name": "ipython",
    "version": 3
   },
   "file_extension": ".py",
   "mimetype": "text/x-python",
   "name": "python",
   "nbconvert_exporter": "python",
   "pygments_lexer": "ipython3",
   "version": "3.10.9"
  }
 },
 "nbformat": 4,
 "nbformat_minor": 5
}
